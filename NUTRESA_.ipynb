{
  "cells": [
    {
      "cell_type": "markdown",
      "metadata": {
        "id": "view-in-github",
        "colab_type": "text"
      },
      "source": [
        "<a href=\"https://colab.research.google.com/github/andres-eric/andres-eric/blob/main/NUTRESA_.ipynb\" target=\"_parent\"><img src=\"https://colab.research.google.com/assets/colab-badge.svg\" alt=\"Open In Colab\"/></a>"
      ]
    },
    {
      "cell_type": "code",
      "execution_count": 229,
      "metadata": {
        "id": "UvwnRWf4cjO8"
      },
      "outputs": [],
      "source": [
        "\n",
        "from sklearn.naive_bayes import GaussianNB\n",
        "import joblib\n",
        "\n",
        "from sklearn.model_selection import train_test_split\n",
        "from sklearn.preprocessing import StandardScaler\n",
        "from sklearn.metrics import accuracy_score, precision_score, recall_score, f1_score, confusion_matrix\n",
        "from sklearn.svm import SVC\n",
        "from sklearn.ensemble import RandomForestClassifier, AdaBoostClassifier, GradientBoostingClassifier, HistGradientBoostingClassifier\n",
        "from sklearn.tree import DecisionTreeClassifier\n",
        "from sklearn.linear_model import LogisticRegression\n",
        "from sklearn.tree import DecisionTreeClassifier\n",
        "from xgboost import XGBClassifier\n",
        "from lightgbm import LGBMClassifier\n",
        "import pandas as pd\n",
        "import numpy as np\n",
        "import warnings\n",
        "import joblib\n"
      ]
    },
    {
      "cell_type": "code",
      "execution_count": 230,
      "metadata": {
        "colab": {
          "base_uri": "https://localhost:8080/"
        },
        "id": "9HNBo97RTR2t",
        "outputId": "3048cfe1-d254-4d3d-c92e-46108b7dd0bc"
      },
      "outputs": [
        {
          "output_type": "stream",
          "name": "stdout",
          "text": [
            "Drive already mounted at /content/drive; to attempt to forcibly remount, call drive.mount(\"/content/drive\", force_remount=True).\n"
          ]
        }
      ],
      "source": [
        "from google.colab import drive\n",
        "drive.mount('/content/drive')"
      ]
    },
    {
      "cell_type": "code",
      "execution_count": 231,
      "metadata": {
        "colab": {
          "base_uri": "https://localhost:8080/"
        },
        "id": "uauJKQlgTlk-",
        "outputId": "9f1ca72e-60cf-4553-9ef1-d0b52b4b86f8"
      },
      "outputs": [
        {
          "output_type": "execute_result",
          "data": {
            "text/plain": [
              "<module 'funciones_m' from '/content/drive/MyDrive/ciencia de datos/Nutresa/funciones_m.py'>"
            ]
          },
          "metadata": {},
          "execution_count": 231
        }
      ],
      "source": [
        "\n",
        "import sys\n",
        "sys.path.append('/content/drive/MyDrive/ciencia de datos/Nutresa')\n",
        "import funciones_m\n",
        "\n",
        "import sys\n",
        "import os\n",
        "\n",
        "# Assuming 'funciones_eda.py' is located one level up from your current working directory\n",
        "module_path = os.path.abspath(os.path.join('..'))\n",
        "if module_path not in sys.path:\n",
        "    sys.path.append(module_path)\n",
        "\n",
        "import funciones_eda\n",
        "\n",
        "import importlib\n",
        "importlib.reload(funciones_eda)\n",
        "\n",
        "\n",
        "import funciones_m\n",
        "\n",
        "import importlib\n",
        "importlib.reload(funciones_m)"
      ]
    },
    {
      "cell_type": "code",
      "execution_count": 232,
      "metadata": {
        "id": "zGwkkpshxqxZ"
      },
      "outputs": [],
      "source": [
        "import sys\n",
        "import os\n",
        "\n",
        "# Assuming 'funciones_eda.py' is located one level up from your current working directory\n",
        "module_path = os.path.abspath(os.path.join('..'))\n",
        "if module_path not in sys.path:\n",
        "    sys.path.append(module_path)\n",
        "\n",
        "import funciones_eda"
      ]
    },
    {
      "cell_type": "code",
      "execution_count": 233,
      "metadata": {
        "colab": {
          "base_uri": "https://localhost:8080/"
        },
        "id": "IZxa83BYT2uL",
        "outputId": "90d7668f-43df-4a6f-daf0-bad20214a840"
      },
      "outputs": [
        {
          "output_type": "stream",
          "name": "stdout",
          "text": [
            "Tablas en la base de datos:\n",
            "   name\n",
            "0  data\n"
          ]
        }
      ],
      "source": [
        "import sqlite3\n",
        "import pandas as pd\n",
        "\n",
        "db_path = '/content/drive/MyDrive/ciencia de datos/Nutresa/data_base_prueba_CN.db'\n",
        "\n",
        "conn = sqlite3.connect(db_path)\n",
        "\n",
        "tables = pd.read_sql(\"SELECT name FROM sqlite_master WHERE type='table';\", conn)\n",
        "print(\"Tablas en la base de datos:\")\n",
        "print(tables)\n",
        "\n",
        "query = \"SELECT * FROM data;\"\n",
        "df = pd.read_sql(query, conn)\n",
        "\n",
        "# Cerrar la conexión\n",
        "conn.close()"
      ]
    },
    {
      "cell_type": "code",
      "execution_count": 234,
      "metadata": {
        "colab": {
          "base_uri": "https://localhost:8080/"
        },
        "id": "GFmH8v4mUVbb",
        "outputId": "fd166b4f-a750-44cc-ad7e-b6ca9e08384e"
      },
      "outputs": [
        {
          "output_type": "stream",
          "name": "stdout",
          "text": [
            "Requirement already satisfied: category_encoders in /usr/local/lib/python3.10/dist-packages (2.6.4)\n",
            "Requirement already satisfied: numpy>=1.14.0 in /usr/local/lib/python3.10/dist-packages (from category_encoders) (1.26.4)\n",
            "Requirement already satisfied: scikit-learn>=0.20.0 in /usr/local/lib/python3.10/dist-packages (from category_encoders) (1.5.2)\n",
            "Requirement already satisfied: scipy>=1.0.0 in /usr/local/lib/python3.10/dist-packages (from category_encoders) (1.13.1)\n",
            "Requirement already satisfied: statsmodels>=0.9.0 in /usr/local/lib/python3.10/dist-packages (from category_encoders) (0.14.4)\n",
            "Requirement already satisfied: pandas>=1.0.5 in /usr/local/lib/python3.10/dist-packages (from category_encoders) (2.2.2)\n",
            "Requirement already satisfied: patsy>=0.5.1 in /usr/local/lib/python3.10/dist-packages (from category_encoders) (0.5.6)\n",
            "Requirement already satisfied: python-dateutil>=2.8.2 in /usr/local/lib/python3.10/dist-packages (from pandas>=1.0.5->category_encoders) (2.8.2)\n",
            "Requirement already satisfied: pytz>=2020.1 in /usr/local/lib/python3.10/dist-packages (from pandas>=1.0.5->category_encoders) (2024.2)\n",
            "Requirement already satisfied: tzdata>=2022.7 in /usr/local/lib/python3.10/dist-packages (from pandas>=1.0.5->category_encoders) (2024.2)\n",
            "Requirement already satisfied: six in /usr/local/lib/python3.10/dist-packages (from patsy>=0.5.1->category_encoders) (1.16.0)\n",
            "Requirement already satisfied: joblib>=1.2.0 in /usr/local/lib/python3.10/dist-packages (from scikit-learn>=0.20.0->category_encoders) (1.4.2)\n",
            "Requirement already satisfied: threadpoolctl>=3.1.0 in /usr/local/lib/python3.10/dist-packages (from scikit-learn>=0.20.0->category_encoders) (3.5.0)\n",
            "Requirement already satisfied: packaging>=21.3 in /usr/local/lib/python3.10/dist-packages (from statsmodels>=0.9.0->category_encoders) (24.1)\n"
          ]
        }
      ],
      "source": [
        "!pip install category_encoders"
      ]
    },
    {
      "cell_type": "code",
      "execution_count": 235,
      "metadata": {
        "colab": {
          "base_uri": "https://localhost:8080/"
        },
        "id": "QwlbKie6UXgt",
        "outputId": "34a1ac84-7cb7-49fa-d747-689417f9a771"
      },
      "outputs": [
        {
          "output_type": "stream",
          "name": "stdout",
          "text": [
            "Requirement already satisfied: category_encoders in /usr/local/lib/python3.10/dist-packages (2.6.4)\n",
            "Requirement already satisfied: numpy>=1.14.0 in /usr/local/lib/python3.10/dist-packages (from category_encoders) (1.26.4)\n",
            "Requirement already satisfied: scikit-learn>=0.20.0 in /usr/local/lib/python3.10/dist-packages (from category_encoders) (1.5.2)\n",
            "Requirement already satisfied: scipy>=1.0.0 in /usr/local/lib/python3.10/dist-packages (from category_encoders) (1.13.1)\n",
            "Requirement already satisfied: statsmodels>=0.9.0 in /usr/local/lib/python3.10/dist-packages (from category_encoders) (0.14.4)\n",
            "Requirement already satisfied: pandas>=1.0.5 in /usr/local/lib/python3.10/dist-packages (from category_encoders) (2.2.2)\n",
            "Requirement already satisfied: patsy>=0.5.1 in /usr/local/lib/python3.10/dist-packages (from category_encoders) (0.5.6)\n",
            "Requirement already satisfied: python-dateutil>=2.8.2 in /usr/local/lib/python3.10/dist-packages (from pandas>=1.0.5->category_encoders) (2.8.2)\n",
            "Requirement already satisfied: pytz>=2020.1 in /usr/local/lib/python3.10/dist-packages (from pandas>=1.0.5->category_encoders) (2024.2)\n",
            "Requirement already satisfied: tzdata>=2022.7 in /usr/local/lib/python3.10/dist-packages (from pandas>=1.0.5->category_encoders) (2024.2)\n",
            "Requirement already satisfied: six in /usr/local/lib/python3.10/dist-packages (from patsy>=0.5.1->category_encoders) (1.16.0)\n",
            "Requirement already satisfied: joblib>=1.2.0 in /usr/local/lib/python3.10/dist-packages (from scikit-learn>=0.20.0->category_encoders) (1.4.2)\n",
            "Requirement already satisfied: threadpoolctl>=3.1.0 in /usr/local/lib/python3.10/dist-packages (from scikit-learn>=0.20.0->category_encoders) (3.5.0)\n",
            "Requirement already satisfied: packaging>=21.3 in /usr/local/lib/python3.10/dist-packages (from statsmodels>=0.9.0->category_encoders) (24.1)\n"
          ]
        }
      ],
      "source": [
        "import sys\n",
        "!{sys.executable} -m pip install category_encoders"
      ]
    },
    {
      "cell_type": "code",
      "execution_count": 236,
      "metadata": {
        "id": "4xVBeQLJlhJn"
      },
      "outputs": [],
      "source": [
        "from category_encoders import TargetEncoder"
      ]
    },
    {
      "cell_type": "markdown",
      "metadata": {
        "id": "E_hTm072UdEU"
      },
      "source": [
        "## Definición de Objetivo notebook\n",
        "construir un modelo de recomendación semanal que, basado en los datos históricosde ventas, genere una lista de productos con la mayor probabilidad de compra en un período específico para cada cliente."
      ]
    },
    {
      "cell_type": "markdown",
      "metadata": {
        "id": "XKpD3RhiUhfD"
      },
      "source": [
        "## Definición de Objetivo notebook\n",
        "construir un modelo de recomendación semanal que, basado en los datos históricosde ventas, genere una lista de productos con la mayor probabilidad de compra en un período específico para cada cliente."
      ]
    },
    {
      "cell_type": "markdown",
      "metadata": {
        "id": "vp49iF9ZUldm"
      },
      "source": [
        "### ANALISIS EXPLORATORIO"
      ]
    },
    {
      "cell_type": "code",
      "execution_count": 237,
      "metadata": {
        "colab": {
          "base_uri": "https://localhost:8080/"
        },
        "id": "vijcKRn-Uh_T",
        "outputId": "463272b7-c25a-4b3e-ea9f-52b81f7d0de1"
      },
      "outputs": [
        {
          "output_type": "stream",
          "name": "stdout",
          "text": [
            "El dataframe tiene 2713148 filas y 21 columnas\n"
          ]
        }
      ],
      "source": [
        "funciones_eda.datos_generales(df)"
      ]
    },
    {
      "cell_type": "code",
      "execution_count": 238,
      "metadata": {
        "colab": {
          "base_uri": "https://localhost:8080/"
        },
        "id": "MgSRzmZuUq0V",
        "outputId": "e2b35d25-1d47-40b6-8a12-30df44063795"
      },
      "outputs": [
        {
          "output_type": "stream",
          "name": "stdout",
          "text": [
            "El dataframe tiene 2713148 filas y 21 columnas\n"
          ]
        }
      ],
      "source": [
        "funciones_eda.datos_generales(df)"
      ]
    },
    {
      "cell_type": "code",
      "execution_count": 239,
      "metadata": {
        "colab": {
          "base_uri": "https://localhost:8080/"
        },
        "id": "yt5KmWckUsIG",
        "outputId": "cdb785c1-1185-428c-a95c-6f0517550105"
      },
      "outputs": [
        {
          "output_type": "stream",
          "name": "stdout",
          "text": [
            "El dataframe tiene 2713148 filas y 21 columnas\n"
          ]
        }
      ],
      "source": [
        "funciones_eda.datos_generales(df)"
      ]
    },
    {
      "cell_type": "markdown",
      "metadata": {
        "id": "s253Ucl-ZASl"
      },
      "source": [
        "### NULLOS"
      ]
    },
    {
      "cell_type": "code",
      "execution_count": 240,
      "metadata": {
        "colab": {
          "base_uri": "https://localhost:8080/"
        },
        "id": "PhMVgtw7Utus",
        "outputId": "d8f1b89d-657e-41de-e6d6-495a02bc2fc3"
      },
      "outputs": [
        {
          "output_type": "execute_result",
          "data": {
            "text/plain": [
              "8600"
            ]
          },
          "metadata": {},
          "execution_count": 240
        }
      ],
      "source": [
        "df.isnull().sum().sum()"
      ]
    },
    {
      "cell_type": "code",
      "execution_count": 241,
      "metadata": {
        "colab": {
          "base_uri": "https://localhost:8080/",
          "height": 165
        },
        "id": "D7CgYtr9Uv6R",
        "outputId": "77639094-2c09-4f01-f2b8-1e8631351a0e"
      },
      "outputs": [
        {
          "output_type": "stream",
          "name": "stdout",
          "text": [
            "la cantidad de nulos es: 8600\n"
          ]
        },
        {
          "output_type": "execute_result",
          "data": {
            "text/plain": [
              "           index           ORDER_DATE SALES_ORDER_ID CUSTOMER_ID IS_DIRECT  \\\n",
              "1669566  1669566  2024-04-29 00:00:00     7193733629       29438         1   \n",
              "\n",
              "        DIST_CHANNEL_ID DIST_CHANNEL_NAME SUB_DIST_CHANNEL_ID  \\\n",
              "1669566               N       Alternativo                  EC   \n",
              "\n",
              "        SUB_DIST_CHANNEL_NAME TIPOL_TRANS  ... PRODUCT_ID SECTOR_ID  \\\n",
              "1669566  Comercio Electronico        None  ...         55         1   \n",
              "\n",
              "        SECTOR_NAME BRAND_ID BRAND_NAME CATEGORY_ID         CATEGORY_NAME  \\\n",
              "1669566     Carnico      001       Zenú          04  Alimentos Larga vida   \n",
              "\n",
              "        SUB_CATEGORY_ID SUB_CATEGORY_NAME  QTY  \n",
              "1669566              21      LV Vegetales  3.0  \n",
              "\n",
              "[1 rows x 21 columns]"
            ],
            "text/html": [
              "\n",
              "  <div id=\"df-27dcbfe9-7406-481a-99ca-96ad7216ce7f\" class=\"colab-df-container\">\n",
              "    <div>\n",
              "<style scoped>\n",
              "    .dataframe tbody tr th:only-of-type {\n",
              "        vertical-align: middle;\n",
              "    }\n",
              "\n",
              "    .dataframe tbody tr th {\n",
              "        vertical-align: top;\n",
              "    }\n",
              "\n",
              "    .dataframe thead th {\n",
              "        text-align: right;\n",
              "    }\n",
              "</style>\n",
              "<table border=\"1\" class=\"dataframe\">\n",
              "  <thead>\n",
              "    <tr style=\"text-align: right;\">\n",
              "      <th></th>\n",
              "      <th>index</th>\n",
              "      <th>ORDER_DATE</th>\n",
              "      <th>SALES_ORDER_ID</th>\n",
              "      <th>CUSTOMER_ID</th>\n",
              "      <th>IS_DIRECT</th>\n",
              "      <th>DIST_CHANNEL_ID</th>\n",
              "      <th>DIST_CHANNEL_NAME</th>\n",
              "      <th>SUB_DIST_CHANNEL_ID</th>\n",
              "      <th>SUB_DIST_CHANNEL_NAME</th>\n",
              "      <th>TIPOL_TRANS</th>\n",
              "      <th>...</th>\n",
              "      <th>PRODUCT_ID</th>\n",
              "      <th>SECTOR_ID</th>\n",
              "      <th>SECTOR_NAME</th>\n",
              "      <th>BRAND_ID</th>\n",
              "      <th>BRAND_NAME</th>\n",
              "      <th>CATEGORY_ID</th>\n",
              "      <th>CATEGORY_NAME</th>\n",
              "      <th>SUB_CATEGORY_ID</th>\n",
              "      <th>SUB_CATEGORY_NAME</th>\n",
              "      <th>QTY</th>\n",
              "    </tr>\n",
              "  </thead>\n",
              "  <tbody>\n",
              "    <tr>\n",
              "      <th>1669566</th>\n",
              "      <td>1669566</td>\n",
              "      <td>2024-04-29 00:00:00</td>\n",
              "      <td>7193733629</td>\n",
              "      <td>29438</td>\n",
              "      <td>1</td>\n",
              "      <td>N</td>\n",
              "      <td>Alternativo</td>\n",
              "      <td>EC</td>\n",
              "      <td>Comercio Electronico</td>\n",
              "      <td>None</td>\n",
              "      <td>...</td>\n",
              "      <td>55</td>\n",
              "      <td>1</td>\n",
              "      <td>Carnico</td>\n",
              "      <td>001</td>\n",
              "      <td>Zenú</td>\n",
              "      <td>04</td>\n",
              "      <td>Alimentos Larga vida</td>\n",
              "      <td>21</td>\n",
              "      <td>LV Vegetales</td>\n",
              "      <td>3.0</td>\n",
              "    </tr>\n",
              "  </tbody>\n",
              "</table>\n",
              "<p>1 rows × 21 columns</p>\n",
              "</div>\n",
              "    <div class=\"colab-df-buttons\">\n",
              "\n",
              "  <div class=\"colab-df-container\">\n",
              "    <button class=\"colab-df-convert\" onclick=\"convertToInteractive('df-27dcbfe9-7406-481a-99ca-96ad7216ce7f')\"\n",
              "            title=\"Convert this dataframe to an interactive table.\"\n",
              "            style=\"display:none;\">\n",
              "\n",
              "  <svg xmlns=\"http://www.w3.org/2000/svg\" height=\"24px\" viewBox=\"0 -960 960 960\">\n",
              "    <path d=\"M120-120v-720h720v720H120Zm60-500h600v-160H180v160Zm220 220h160v-160H400v160Zm0 220h160v-160H400v160ZM180-400h160v-160H180v160Zm440 0h160v-160H620v160ZM180-180h160v-160H180v160Zm440 0h160v-160H620v160Z\"/>\n",
              "  </svg>\n",
              "    </button>\n",
              "\n",
              "  <style>\n",
              "    .colab-df-container {\n",
              "      display:flex;\n",
              "      gap: 12px;\n",
              "    }\n",
              "\n",
              "    .colab-df-convert {\n",
              "      background-color: #E8F0FE;\n",
              "      border: none;\n",
              "      border-radius: 50%;\n",
              "      cursor: pointer;\n",
              "      display: none;\n",
              "      fill: #1967D2;\n",
              "      height: 32px;\n",
              "      padding: 0 0 0 0;\n",
              "      width: 32px;\n",
              "    }\n",
              "\n",
              "    .colab-df-convert:hover {\n",
              "      background-color: #E2EBFA;\n",
              "      box-shadow: 0px 1px 2px rgba(60, 64, 67, 0.3), 0px 1px 3px 1px rgba(60, 64, 67, 0.15);\n",
              "      fill: #174EA6;\n",
              "    }\n",
              "\n",
              "    .colab-df-buttons div {\n",
              "      margin-bottom: 4px;\n",
              "    }\n",
              "\n",
              "    [theme=dark] .colab-df-convert {\n",
              "      background-color: #3B4455;\n",
              "      fill: #D2E3FC;\n",
              "    }\n",
              "\n",
              "    [theme=dark] .colab-df-convert:hover {\n",
              "      background-color: #434B5C;\n",
              "      box-shadow: 0px 1px 3px 1px rgba(0, 0, 0, 0.15);\n",
              "      filter: drop-shadow(0px 1px 2px rgba(0, 0, 0, 0.3));\n",
              "      fill: #FFFFFF;\n",
              "    }\n",
              "  </style>\n",
              "\n",
              "    <script>\n",
              "      const buttonEl =\n",
              "        document.querySelector('#df-27dcbfe9-7406-481a-99ca-96ad7216ce7f button.colab-df-convert');\n",
              "      buttonEl.style.display =\n",
              "        google.colab.kernel.accessAllowed ? 'block' : 'none';\n",
              "\n",
              "      async function convertToInteractive(key) {\n",
              "        const element = document.querySelector('#df-27dcbfe9-7406-481a-99ca-96ad7216ce7f');\n",
              "        const dataTable =\n",
              "          await google.colab.kernel.invokeFunction('convertToInteractive',\n",
              "                                                    [key], {});\n",
              "        if (!dataTable) return;\n",
              "\n",
              "        const docLinkHtml = 'Like what you see? Visit the ' +\n",
              "          '<a target=\"_blank\" href=https://colab.research.google.com/notebooks/data_table.ipynb>data table notebook</a>'\n",
              "          + ' to learn more about interactive tables.';\n",
              "        element.innerHTML = '';\n",
              "        dataTable['output_type'] = 'display_data';\n",
              "        await google.colab.output.renderOutput(dataTable, element);\n",
              "        const docLink = document.createElement('div');\n",
              "        docLink.innerHTML = docLinkHtml;\n",
              "        element.appendChild(docLink);\n",
              "      }\n",
              "    </script>\n",
              "  </div>\n",
              "\n",
              "\n",
              "    </div>\n",
              "  </div>\n"
            ],
            "application/vnd.google.colaboratory.intrinsic+json": {
              "type": "dataframe"
            }
          },
          "metadata": {},
          "execution_count": 241
        }
      ],
      "source": [
        "funciones_eda.nullos(df).head(1)"
      ]
    },
    {
      "cell_type": "code",
      "execution_count": 242,
      "metadata": {
        "colab": {
          "base_uri": "https://localhost:8080/"
        },
        "id": "VLLGVO5cUwxy",
        "outputId": "1ba7417b-e40d-4987-9ce2-c25bc646d49f"
      },
      "outputs": [
        {
          "output_type": "execute_result",
          "data": {
            "text/plain": [
              "0.317"
            ]
          },
          "metadata": {},
          "execution_count": 242
        }
      ],
      "source": [
        "porcentajde_de_nullos=round(df.isnull().sum().sum()/len(df)*100,4)\n",
        "porcentajde_de_nullos"
      ]
    },
    {
      "cell_type": "code",
      "execution_count": 243,
      "metadata": {
        "id": "gaZ1cWA9UzOb"
      },
      "outputs": [],
      "source": [
        "df = df.dropna()"
      ]
    },
    {
      "cell_type": "markdown",
      "metadata": {
        "id": "wkGVfbcpZIfJ"
      },
      "source": [
        "### OUTLIERS"
      ]
    },
    {
      "cell_type": "code",
      "execution_count": 244,
      "metadata": {
        "id": "qBQGaPsfYjZ6"
      },
      "outputs": [],
      "source": [
        "df_2=funciones_eda.eliminar_outliers_iqr(df, 'QTY', multiplicador=1.5)"
      ]
    },
    {
      "cell_type": "markdown",
      "metadata": {
        "id": "bz9zCenn6_Tv"
      },
      "source": [
        "### CAMBIO DE TIPO FECHA"
      ]
    },
    {
      "cell_type": "code",
      "execution_count": 245,
      "metadata": {
        "id": "V4bSIhm56-eS"
      },
      "outputs": [],
      "source": [
        "funciones_eda.transfor_fecha(df,['ORDER_DATE'])\n",
        "df['Semana'] = df['ORDER_DATE'].dt.isocalendar().week"
      ]
    },
    {
      "cell_type": "markdown",
      "metadata": {
        "id": "xqiD0cdsU2q-"
      },
      "source": [
        "### FILTRO DATA SET POR MODELOS DE ATENCION Y VARIABLES CLIENTE"
      ]
    },
    {
      "cell_type": "code",
      "execution_count": 246,
      "metadata": {
        "id": "5LML03gZdME4"
      },
      "outputs": [],
      "source": [
        "df=df[['QTY','Semana','ORDER_DATE','CUSTOMER_ID','PRODUCT_ID','DIST_CHANNEL_NAME','SUB_DIST_CHANNEL_NAME','TIPOL_TRANS','IS_DIRECT','TIPOL_TRANS_NAME','SECTOR_NAME','BRAND_NAME','CATEGORY_NAME','SUB_CATEGORY_NAME']]"
      ]
    },
    {
      "cell_type": "code",
      "execution_count": 247,
      "metadata": {
        "id": "DK5cPayvU3Uv"
      },
      "outputs": [],
      "source": [
        "directa=df[df.IS_DIRECT=='1']\n",
        "no_directa=df[df.IS_DIRECT=='0']\n",
        "\n",
        "directa_ = directa.copy()\n",
        "no_directa = no_directa.copy()\n"
      ]
    },
    {
      "cell_type": "markdown",
      "metadata": {
        "id": "h9HDptQEU5ot"
      },
      "source": [
        "Filtrar el dataset por IS_DIRECT, ya que permite adaptar las recomendaciones en función del tipo de atención. el cual puede ayudar a personalizar el “Pedido sugerido”"
      ]
    },
    {
      "cell_type": "code",
      "execution_count": 248,
      "metadata": {
        "id": "kuL1_pHeU9xG",
        "colab": {
          "base_uri": "https://localhost:8080/"
        },
        "outputId": "554e69a2-d629-45e4-fc0b-4b842ec843ca"
      },
      "outputs": [
        {
          "output_type": "stream",
          "name": "stdout",
          "text": [
            "El dataframe tiene 1039316 filas y 14 columnas\n"
          ]
        }
      ],
      "source": [
        "funciones_eda.datos_generales(directa)"
      ]
    },
    {
      "cell_type": "code",
      "execution_count": 249,
      "metadata": {
        "id": "lS5cSwxIU_Gg",
        "colab": {
          "base_uri": "https://localhost:8080/"
        },
        "outputId": "1223b4ec-8c67-4236-f1cc-c5a838ba5e76"
      },
      "outputs": [
        {
          "output_type": "stream",
          "name": "stdout",
          "text": [
            "El dataframe tiene 1669532 filas y 14 columnas\n"
          ]
        }
      ],
      "source": [
        "funciones_eda.datos_generales(no_directa)"
      ]
    },
    {
      "cell_type": "markdown",
      "metadata": {
        "id": "gzRdMHZ7V58U"
      },
      "source": [
        "### ANALITICA DESCRIPTIVA"
      ]
    },
    {
      "cell_type": "code",
      "execution_count": 250,
      "metadata": {
        "id": "0ktPQeeZVEi5",
        "colab": {
          "base_uri": "https://localhost:8080/",
          "height": 1000
        },
        "outputId": "14feded7-93f6-4afe-bf6a-4c17b975d5ec"
      },
      "outputs": [
        {
          "output_type": "display_data",
          "data": {
            "text/plain": [
              "<Figure size 1500x1500 with 9 Axes>"
            ],
            "image/png": "[encoded data removed]"
          },
          "metadata": {}
        }
      ],
      "source": [
        "funciones_eda.graficar_barras_columnas(df,['DIST_CHANNEL_NAME','SUB_DIST_CHANNEL_NAME',\\\n",
        "    'TIPOL_TRANS_NAME',\\\n",
        "    'SECTOR_NAME','BRAND_NAME','CATEGORY_NAME','SUB_CATEGORY_NAME'])"
      ]
    },
    {
      "cell_type": "code",
      "execution_count": 251,
      "metadata": {
        "id": "J6V4fqJlYNnc",
        "colab": {
          "base_uri": "https://localhost:8080/",
          "height": 507
        },
        "outputId": "341fb5a3-a3e9-4fc4-ba10-232e66b57828"
      },
      "outputs": [
        {
          "output_type": "display_data",
          "data": {
            "text/plain": [
              "<Figure size 1500x500 with 3 Axes>"
            ],
            "image/png": "[encoded data removed]"
          },
          "metadata": {}
        }
      ],
      "source": [
        "funciones_eda.graficar_barras_columnas(df,['Semana'])"
      ]
    },
    {
      "cell_type": "markdown",
      "metadata": {
        "id": "djj2ENMvX69T"
      },
      "source": [
        "- DIST_CHANNEL_NAME: Las categorías \"Autosevicios\" y \"Tradicional\" tienen la frecuencia más alta, con \"Tradicional\" ligeramente más alto que \"Autosevicios\"\n",
        "\n",
        "- SUB_DIST_CHANNEL_NAME: La categoría \"Tiendas\" destaca por tener la mayor frecuencia, seguida de \"Servicios Indepe\"\n",
        "\n",
        "- TIPOL_TRANS_NAME: \"Tienda Mixta\" es la categoría con mayor frecuencia, seguida de \"Minimercado Independ\" y \"Agente Comercial\"."
      ]
    },
    {
      "cell_type": "markdown",
      "metadata": {
        "id": "uNBK-fxIX94J"
      },
      "source": [
        "apartir de el analisis de los graficos de frecuencia por canal, sector, marca y categoría, se puede hacer observaciones para mejorar generalizar el modelo de recomendacion y hebitar el ruido:\n",
        "\n",
        "Los canales \"Tradicional\" y \"Autosevicios\" en DIST_CHANNEL_NAME, junto con \"Tiendas\" en SUB_DIST_CHANNEL_NAME y \"Tienda Mixta\" en TIPOL_TRANS_NAME, concentran la mayoría de las transacciones, tambien  los sectores de \"Chocolates\", \"Galletas\" y \"Café\" son los más frecuentes en ventas, lo que sugiere una fuerte demanda en estos segmentos.\n",
        "\n",
        "tambien las categorías de baja frecuencia, como \"Digital\" en DIST_CHANNEL_NAME, y sectores como \"Nutrición Experta\" o marcas menos populares como \"Ducales\" y \"Noel\", aportan menor volumen de datos y podrían introducir ruido en el modelo.\n",
        "\n",
        "por otro lado La variabilidad en los patrones de compra entre los canales (por ejemplo, el comportamiento de compra en \"Tradicional\" vs. \"Autosevicios\") sugiere que puede ser beneficioso crear submodelos especializados para cada canal de alto volumen lo cual permite recomendaciones más personalizadas y efectivas, sin embargo es una sugerencia que aplica para posteriores evaluaciones."
      ]
    },
    {
      "cell_type": "markdown",
      "metadata": {
        "id": "xpqU7l1Ei-M0"
      },
      "source": [
        "AGRUPAR DATOS"
      ]
    },
    {
      "cell_type": "code",
      "execution_count": 252,
      "metadata": {
        "id": "3XKBGa7jqZp4"
      },
      "outputs": [],
      "source": [
        "agrupado_d=funciones_eda.calcular_probabilidad_compra(directa_)"
      ]
    },
    {
      "cell_type": "code",
      "execution_count": 253,
      "metadata": {
        "id": "oOXfMdkN4vhe"
      },
      "outputs": [],
      "source": [
        "agrupado_d['PRODUCT_ID'] = agrupado_d['PRODUCT_ID'].astype(float)\n",
        "agrupado_d['CUSTOMER_ID'] = agrupado_d['CUSTOMER_ID'].astype(float)"
      ]
    },
    {
      "cell_type": "code",
      "execution_count": 254,
      "metadata": {
        "id": "zX7Wr7ho8tiS"
      },
      "outputs": [],
      "source": [
        "agrupado_d['se_vende'] = (agrupado_d['probabilidad_compra_producto'] >= 0.5).astype(int)\n"
      ]
    },
    {
      "cell_type": "code",
      "execution_count": 255,
      "metadata": {
        "id": "gDSSikPSJClT",
        "colab": {
          "base_uri": "https://localhost:8080/"
        },
        "outputId": "162c1f14-9a6b-4644-d0c4-0320fa9f00d0"
      },
      "outputs": [
        {
          "output_type": "stream",
          "name": "stdout",
          "text": [
            "<class 'pandas.core.frame.DataFrame'>\n",
            "RangeIndex: 768321 entries, 0 to 768320\n",
            "Data columns (total 12 columns):\n",
            " #   Column                        Non-Null Count   Dtype  \n",
            "---  ------                        --------------   -----  \n",
            " 0   CUSTOMER_ID                   768321 non-null  float64\n",
            " 1   PRODUCT_ID                    768321 non-null  float64\n",
            " 2   Semana                        768321 non-null  UInt32 \n",
            " 3   DIST_CHANNEL_NAME             768321 non-null  object \n",
            " 4   SUB_DIST_CHANNEL_NAME         768321 non-null  object \n",
            " 5   TIPOL_TRANS                   768321 non-null  object \n",
            " 6   BRAND_NAME                    768321 non-null  object \n",
            " 7   SECTOR_NAME                   768321 non-null  object \n",
            " 8   QTY                           768321 non-null  float64\n",
            " 9   total_compras_cliente         768321 non-null  float64\n",
            " 10  probabilidad_compra_producto  768321 non-null  float64\n",
            " 11  se_vende                      768321 non-null  int64  \n",
            "dtypes: UInt32(1), float64(5), int64(1), object(5)\n",
            "memory usage: 68.1+ MB\n"
          ]
        }
      ],
      "source": [
        "agrupado_d.info()"
      ]
    },
    {
      "cell_type": "markdown",
      "metadata": {
        "id": "Tq9QoMc_9lQA"
      },
      "source": [
        "### MODELOS"
      ]
    },
    {
      "cell_type": "code",
      "execution_count": 256,
      "metadata": {
        "id": "DSEs3oyM9cMO"
      },
      "outputs": [],
      "source": [
        "modelos_clasificacion = [\n",
        "    'SVC()',\n",
        "    'RandomForestClassifier()',\n",
        "    'DecisionTreeClassifier()',\n",
        "    'XGBClassifier()',\n",
        "    'LGBMClassifier()',\n",
        "    'AdaBoostClassifier()',\n",
        "    'GradientBoostingClassifier()',\n",
        "    'LogisticRegression()',\n",
        "    'HistGradientBoostingClassifier()',\n",
        "    'KNeighborsClassifier()'\n",
        "]"
      ]
    },
    {
      "cell_type": "code",
      "execution_count": 257,
      "metadata": {
        "id": "0eFIFCFT97QA"
      },
      "outputs": [],
      "source": [
        "agrupado_d=agrupado_d[['CUSTOMER_ID','PRODUCT_ID','Semana','DIST_CHANNEL_NAME','SUB_DIST_CHANNEL_NAME','BRAND_NAME','SECTOR_NAME','se_vende']]"
      ]
    },
    {
      "cell_type": "code",
      "execution_count": 258,
      "metadata": {
        "id": "cqrTuUFF9DSv",
        "colab": {
          "base_uri": "https://localhost:8080/",
          "height": 143
        },
        "outputId": "03038ec1-3d79-4cb8-a5e1-bb6d034bd1f6"
      },
      "outputs": [
        {
          "output_type": "execute_result",
          "data": {
            "text/plain": [
              "   CUSTOMER_ID  PRODUCT_ID  Semana DIST_CHANNEL_NAME SUB_DIST_CHANNEL_NAME  \\\n",
              "0      29432.0       102.0      20   Grandes Cadenas               Cadenas   \n",
              "1      29432.0       102.0      21   Grandes Cadenas               Cadenas   \n",
              "2      29432.0       102.0      22   Grandes Cadenas               Cadenas   \n",
              "\n",
              "    BRAND_NAME SECTOR_NAME  se_vende  \n",
              "0  La Especial  Chocolates         0  \n",
              "1  La Especial  Chocolates         0  \n",
              "2  La Especial  Chocolates         0  "
            ],
            "text/html": [
              "\n",
              "  <div id=\"df-43d6e957-52d4-411e-a449-ba8328d9f53c\" class=\"colab-df-container\">\n",
              "    <div>\n",
              "<style scoped>\n",
              "    .dataframe tbody tr th:only-of-type {\n",
              "        vertical-align: middle;\n",
              "    }\n",
              "\n",
              "    .dataframe tbody tr th {\n",
              "        vertical-align: top;\n",
              "    }\n",
              "\n",
              "    .dataframe thead th {\n",
              "        text-align: right;\n",
              "    }\n",
              "</style>\n",
              "<table border=\"1\" class=\"dataframe\">\n",
              "  <thead>\n",
              "    <tr style=\"text-align: right;\">\n",
              "      <th></th>\n",
              "      <th>CUSTOMER_ID</th>\n",
              "      <th>PRODUCT_ID</th>\n",
              "      <th>Semana</th>\n",
              "      <th>DIST_CHANNEL_NAME</th>\n",
              "      <th>SUB_DIST_CHANNEL_NAME</th>\n",
              "      <th>BRAND_NAME</th>\n",
              "      <th>SECTOR_NAME</th>\n",
              "      <th>se_vende</th>\n",
              "    </tr>\n",
              "  </thead>\n",
              "  <tbody>\n",
              "    <tr>\n",
              "      <th>0</th>\n",
              "      <td>29432.0</td>\n",
              "      <td>102.0</td>\n",
              "      <td>20</td>\n",
              "      <td>Grandes Cadenas</td>\n",
              "      <td>Cadenas</td>\n",
              "      <td>La Especial</td>\n",
              "      <td>Chocolates</td>\n",
              "      <td>0</td>\n",
              "    </tr>\n",
              "    <tr>\n",
              "      <th>1</th>\n",
              "      <td>29432.0</td>\n",
              "      <td>102.0</td>\n",
              "      <td>21</td>\n",
              "      <td>Grandes Cadenas</td>\n",
              "      <td>Cadenas</td>\n",
              "      <td>La Especial</td>\n",
              "      <td>Chocolates</td>\n",
              "      <td>0</td>\n",
              "    </tr>\n",
              "    <tr>\n",
              "      <th>2</th>\n",
              "      <td>29432.0</td>\n",
              "      <td>102.0</td>\n",
              "      <td>22</td>\n",
              "      <td>Grandes Cadenas</td>\n",
              "      <td>Cadenas</td>\n",
              "      <td>La Especial</td>\n",
              "      <td>Chocolates</td>\n",
              "      <td>0</td>\n",
              "    </tr>\n",
              "  </tbody>\n",
              "</table>\n",
              "</div>\n",
              "    <div class=\"colab-df-buttons\">\n",
              "\n",
              "  <div class=\"colab-df-container\">\n",
              "    <button class=\"colab-df-convert\" onclick=\"convertToInteractive('df-43d6e957-52d4-411e-a449-ba8328d9f53c')\"\n",
              "            title=\"Convert this dataframe to an interactive table.\"\n",
              "            style=\"display:none;\">\n",
              "\n",
              "  <svg xmlns=\"http://www.w3.org/2000/svg\" height=\"24px\" viewBox=\"0 -960 960 960\">\n",
              "    <path d=\"M120-120v-720h720v720H120Zm60-500h600v-160H180v160Zm220 220h160v-160H400v160Zm0 220h160v-160H400v160ZM180-400h160v-160H180v160Zm440 0h160v-160H620v160ZM180-180h160v-160H180v160Zm440 0h160v-160H620v160Z\"/>\n",
              "  </svg>\n",
              "    </button>\n",
              "\n",
              "  <style>\n",
              "    .colab-df-container {\n",
              "      display:flex;\n",
              "      gap: 12px;\n",
              "    }\n",
              "\n",
              "    .colab-df-convert {\n",
              "      background-color: #E8F0FE;\n",
              "      border: none;\n",
              "      border-radius: 50%;\n",
              "      cursor: pointer;\n",
              "      display: none;\n",
              "      fill: #1967D2;\n",
              "      height: 32px;\n",
              "      padding: 0 0 0 0;\n",
              "      width: 32px;\n",
              "    }\n",
              "\n",
              "    .colab-df-convert:hover {\n",
              "      background-color: #E2EBFA;\n",
              "      box-shadow: 0px 1px 2px rgba(60, 64, 67, 0.3), 0px 1px 3px 1px rgba(60, 64, 67, 0.15);\n",
              "      fill: #174EA6;\n",
              "    }\n",
              "\n",
              "    .colab-df-buttons div {\n",
              "      margin-bottom: 4px;\n",
              "    }\n",
              "\n",
              "    [theme=dark] .colab-df-convert {\n",
              "      background-color: #3B4455;\n",
              "      fill: #D2E3FC;\n",
              "    }\n",
              "\n",
              "    [theme=dark] .colab-df-convert:hover {\n",
              "      background-color: #434B5C;\n",
              "      box-shadow: 0px 1px 3px 1px rgba(0, 0, 0, 0.15);\n",
              "      filter: drop-shadow(0px 1px 2px rgba(0, 0, 0, 0.3));\n",
              "      fill: #FFFFFF;\n",
              "    }\n",
              "  </style>\n",
              "\n",
              "    <script>\n",
              "      const buttonEl =\n",
              "        document.querySelector('#df-43d6e957-52d4-411e-a449-ba8328d9f53c button.colab-df-convert');\n",
              "      buttonEl.style.display =\n",
              "        google.colab.kernel.accessAllowed ? 'block' : 'none';\n",
              "\n",
              "      async function convertToInteractive(key) {\n",
              "        const element = document.querySelector('#df-43d6e957-52d4-411e-a449-ba8328d9f53c');\n",
              "        const dataTable =\n",
              "          await google.colab.kernel.invokeFunction('convertToInteractive',\n",
              "                                                    [key], {});\n",
              "        if (!dataTable) return;\n",
              "\n",
              "        const docLinkHtml = 'Like what you see? Visit the ' +\n",
              "          '<a target=\"_blank\" href=https://colab.research.google.com/notebooks/data_table.ipynb>data table notebook</a>'\n",
              "          + ' to learn more about interactive tables.';\n",
              "        element.innerHTML = '';\n",
              "        dataTable['output_type'] = 'display_data';\n",
              "        await google.colab.output.renderOutput(dataTable, element);\n",
              "        const docLink = document.createElement('div');\n",
              "        docLink.innerHTML = docLinkHtml;\n",
              "        element.appendChild(docLink);\n",
              "      }\n",
              "    </script>\n",
              "  </div>\n",
              "\n",
              "\n",
              "<div id=\"df-40494a3c-231a-4609-9f2b-2714dd4f8166\">\n",
              "  <button class=\"colab-df-quickchart\" onclick=\"quickchart('df-40494a3c-231a-4609-9f2b-2714dd4f8166')\"\n",
              "            title=\"Suggest charts\"\n",
              "            style=\"display:none;\">\n",
              "\n",
              "<svg xmlns=\"http://www.w3.org/2000/svg\" height=\"24px\"viewBox=\"0 0 24 24\"\n",
              "     width=\"24px\">\n",
              "    <g>\n",
              "        <path d=\"M19 3H5c-1.1 0-2 .9-2 2v14c0 1.1.9 2 2 2h14c1.1 0 2-.9 2-2V5c0-1.1-.9-2-2-2zM9 17H7v-7h2v7zm4 0h-2V7h2v10zm4 0h-2v-4h2v4z\"/>\n",
              "    </g>\n",
              "</svg>\n",
              "  </button>\n",
              "\n",
              "<style>\n",
              "  .colab-df-quickchart {\n",
              "      --bg-color: #E8F0FE;\n",
              "      --fill-color: #1967D2;\n",
              "      --hover-bg-color: #E2EBFA;\n",
              "      --hover-fill-color: #174EA6;\n",
              "      --disabled-fill-color: #AAA;\n",
              "      --disabled-bg-color: #DDD;\n",
              "  }\n",
              "\n",
              "  [theme=dark] .colab-df-quickchart {\n",
              "      --bg-color: #3B4455;\n",
              "      --fill-color: #D2E3FC;\n",
              "      --hover-bg-color: #434B5C;\n",
              "      --hover-fill-color: #FFFFFF;\n",
              "      --disabled-bg-color: #3B4455;\n",
              "      --disabled-fill-color: #666;\n",
              "  }\n",
              "\n",
              "  .colab-df-quickchart {\n",
              "    background-color: var(--bg-color);\n",
              "    border: none;\n",
              "    border-radius: 50%;\n",
              "    cursor: pointer;\n",
              "    display: none;\n",
              "    fill: var(--fill-color);\n",
              "    height: 32px;\n",
              "    padding: 0;\n",
              "    width: 32px;\n",
              "  }\n",
              "\n",
              "  .colab-df-quickchart:hover {\n",
              "    background-color: var(--hover-bg-color);\n",
              "    box-shadow: 0 1px 2px rgba(60, 64, 67, 0.3), 0 1px 3px 1px rgba(60, 64, 67, 0.15);\n",
              "    fill: var(--button-hover-fill-color);\n",
              "  }\n",
              "\n",
              "  .colab-df-quickchart-complete:disabled,\n",
              "  .colab-df-quickchart-complete:disabled:hover {\n",
              "    background-color: var(--disabled-bg-color);\n",
              "    fill: var(--disabled-fill-color);\n",
              "    box-shadow: none;\n",
              "  }\n",
              "\n",
              "  .colab-df-spinner {\n",
              "    border: 2px solid var(--fill-color);\n",
              "    border-color: transparent;\n",
              "    border-bottom-color: var(--fill-color);\n",
              "    animation:\n",
              "      spin 1s steps(1) infinite;\n",
              "  }\n",
              "\n",
              "  @keyframes spin {\n",
              "    0% {\n",
              "      border-color: transparent;\n",
              "      border-bottom-color: var(--fill-color);\n",
              "      border-left-color: var(--fill-color);\n",
              "    }\n",
              "    20% {\n",
              "      border-color: transparent;\n",
              "      border-left-color: var(--fill-color);\n",
              "      border-top-color: var(--fill-color);\n",
              "    }\n",
              "    30% {\n",
              "      border-color: transparent;\n",
              "      border-left-color: var(--fill-color);\n",
              "      border-top-color: var(--fill-color);\n",
              "      border-right-color: var(--fill-color);\n",
              "    }\n",
              "    40% {\n",
              "      border-color: transparent;\n",
              "      border-right-color: var(--fill-color);\n",
              "      border-top-color: var(--fill-color);\n",
              "    }\n",
              "    60% {\n",
              "      border-color: transparent;\n",
              "      border-right-color: var(--fill-color);\n",
              "    }\n",
              "    80% {\n",
              "      border-color: transparent;\n",
              "      border-right-color: var(--fill-color);\n",
              "      border-bottom-color: var(--fill-color);\n",
              "    }\n",
              "    90% {\n",
              "      border-color: transparent;\n",
              "      border-bottom-color: var(--fill-color);\n",
              "    }\n",
              "  }\n",
              "</style>\n",
              "\n",
              "  <script>\n",
              "    async function quickchart(key) {\n",
              "      const quickchartButtonEl =\n",
              "        document.querySelector('#' + key + ' button');\n",
              "      quickchartButtonEl.disabled = true;  // To prevent multiple clicks.\n",
              "      quickchartButtonEl.classList.add('colab-df-spinner');\n",
              "      try {\n",
              "        const charts = await google.colab.kernel.invokeFunction(\n",
              "            'suggestCharts', [key], {});\n",
              "      } catch (error) {\n",
              "        console.error('Error during call to suggestCharts:', error);\n",
              "      }\n",
              "      quickchartButtonEl.classList.remove('colab-df-spinner');\n",
              "      quickchartButtonEl.classList.add('colab-df-quickchart-complete');\n",
              "    }\n",
              "    (() => {\n",
              "      let quickchartButtonEl =\n",
              "        document.querySelector('#df-40494a3c-231a-4609-9f2b-2714dd4f8166 button');\n",
              "      quickchartButtonEl.style.display =\n",
              "        google.colab.kernel.accessAllowed ? 'block' : 'none';\n",
              "    })();\n",
              "  </script>\n",
              "</div>\n",
              "\n",
              "    </div>\n",
              "  </div>\n"
            ],
            "application/vnd.google.colaboratory.intrinsic+json": {
              "type": "dataframe",
              "variable_name": "agrupado_d"
            }
          },
          "metadata": {},
          "execution_count": 258
        }
      ],
      "source": [
        "agrupado_d.head(3)"
      ]
    },
    {
      "cell_type": "markdown",
      "metadata": {
        "id": "3OW8jiQMDcPm"
      },
      "source": [
        "### DATOS NUEVOS PARA EL MODELO"
      ]
    },
    {
      "cell_type": "code",
      "execution_count": 259,
      "metadata": {
        "id": "U-lP-YHBC0y5"
      },
      "outputs": [],
      "source": [
        "datos_nuevos = agrupado_d[agrupado_d.CUSTOMER_ID.isin([33074, 33116,33675])].copy()\n",
        "datos_nuevos['Semana'] = 27\n"
      ]
    },
    {
      "cell_type": "code",
      "execution_count": 260,
      "metadata": {
        "id": "gS6gZ__vFPmJ"
      },
      "outputs": [],
      "source": [
        "datos_nuevos = datos_nuevos.drop(columns=['se_vende'])"
      ]
    },
    {
      "cell_type": "markdown",
      "metadata": {
        "id": "bVw2t_e1Etyq"
      },
      "source": [
        "GET DUMMIES"
      ]
    },
    {
      "cell_type": "code",
      "execution_count": 261,
      "metadata": {
        "id": "k54sZKJJ_EoV"
      },
      "outputs": [],
      "source": [
        "agrupado_d=pd.get_dummies(agrupado_d,drop_first=1)"
      ]
    },
    {
      "cell_type": "code",
      "execution_count": 262,
      "metadata": {
        "id": "0CWShUzyLu-v"
      },
      "outputs": [],
      "source": [
        "datos_nuevos_d=pd.get_dummies(datos_nuevos,drop_first=1)"
      ]
    },
    {
      "cell_type": "markdown",
      "metadata": {
        "id": "_MiZMVn8EyLL"
      },
      "source": [
        "MODELO"
      ]
    },
    {
      "cell_type": "code",
      "execution_count": 263,
      "metadata": {
        "id": "wvtijsUfApTX"
      },
      "outputs": [],
      "source": [
        "modelo=['DecisionTreeClassifier()']"
      ]
    },
    {
      "cell_type": "code",
      "source": [
        "probabilidades_df = funciones_m.modelos_func_clasificacion(agrupado_d, modelo, 'se_vende', 'se_vende')"
      ],
      "metadata": {
        "id": "4rIrJD3_gWkd"
      },
      "execution_count": 264,
      "outputs": []
    },
    {
      "cell_type": "code",
      "source": [
        "probabilidades_df"
      ],
      "metadata": {
        "id": "mpWhldvLi0po",
        "colab": {
          "base_uri": "https://localhost:8080/",
          "height": 424
        },
        "outputId": "d0c2e53e-b818-412f-fdcf-dd5dbe0052a5"
      },
      "execution_count": 265,
      "outputs": [
        {
          "output_type": "execute_result",
          "data": {
            "text/plain": [
              "        CUSTOMER_ID  PRODUCT_ID  Semana  probabilidad_compra  \\\n",
              "0           33888.0       220.0      23             0.062333   \n",
              "1           34770.0      1502.0      26             0.609853   \n",
              "2           33675.0       233.0      23             0.079903   \n",
              "3           34046.0       331.0      25             0.055945   \n",
              "4           34393.0        55.0      25             0.311024   \n",
              "...             ...         ...     ...                  ...   \n",
              "153660      31867.0       337.0      18             0.600334   \n",
              "153661      29605.0      1180.0      23             0.600334   \n",
              "153662      32174.0        22.0      22             0.229613   \n",
              "153663      35825.0        12.0      26             0.600334   \n",
              "153664      36218.0       421.0      25             0.249496   \n",
              "\n",
              "                         model  \n",
              "0       DecisionTreeClassifier  \n",
              "1       DecisionTreeClassifier  \n",
              "2       DecisionTreeClassifier  \n",
              "3       DecisionTreeClassifier  \n",
              "4       DecisionTreeClassifier  \n",
              "...                        ...  \n",
              "153660  DecisionTreeClassifier  \n",
              "153661  DecisionTreeClassifier  \n",
              "153662  DecisionTreeClassifier  \n",
              "153663  DecisionTreeClassifier  \n",
              "153664  DecisionTreeClassifier  \n",
              "\n",
              "[153665 rows x 5 columns]"
            ],
            "text/html": [
              "\n",
              "  <div id=\"df-f0414350-387e-4ddd-a899-958f676f721b\" class=\"colab-df-container\">\n",
              "    <div>\n",
              "<style scoped>\n",
              "    .dataframe tbody tr th:only-of-type {\n",
              "        vertical-align: middle;\n",
              "    }\n",
              "\n",
              "    .dataframe tbody tr th {\n",
              "        vertical-align: top;\n",
              "    }\n",
              "\n",
              "    .dataframe thead th {\n",
              "        text-align: right;\n",
              "    }\n",
              "</style>\n",
              "<table border=\"1\" class=\"dataframe\">\n",
              "  <thead>\n",
              "    <tr style=\"text-align: right;\">\n",
              "      <th></th>\n",
              "      <th>CUSTOMER_ID</th>\n",
              "      <th>PRODUCT_ID</th>\n",
              "      <th>Semana</th>\n",
              "      <th>probabilidad_compra</th>\n",
              "      <th>model</th>\n",
              "    </tr>\n",
              "  </thead>\n",
              "  <tbody>\n",
              "    <tr>\n",
              "      <th>0</th>\n",
              "      <td>33888.0</td>\n",
              "      <td>220.0</td>\n",
              "      <td>23</td>\n",
              "      <td>0.062333</td>\n",
              "      <td>DecisionTreeClassifier</td>\n",
              "    </tr>\n",
              "    <tr>\n",
              "      <th>1</th>\n",
              "      <td>34770.0</td>\n",
              "      <td>1502.0</td>\n",
              "      <td>26</td>\n",
              "      <td>0.609853</td>\n",
              "      <td>DecisionTreeClassifier</td>\n",
              "    </tr>\n",
              "    <tr>\n",
              "      <th>2</th>\n",
              "      <td>33675.0</td>\n",
              "      <td>233.0</td>\n",
              "      <td>23</td>\n",
              "      <td>0.079903</td>\n",
              "      <td>DecisionTreeClassifier</td>\n",
              "    </tr>\n",
              "    <tr>\n",
              "      <th>3</th>\n",
              "      <td>34046.0</td>\n",
              "      <td>331.0</td>\n",
              "      <td>25</td>\n",
              "      <td>0.055945</td>\n",
              "      <td>DecisionTreeClassifier</td>\n",
              "    </tr>\n",
              "    <tr>\n",
              "      <th>4</th>\n",
              "      <td>34393.0</td>\n",
              "      <td>55.0</td>\n",
              "      <td>25</td>\n",
              "      <td>0.311024</td>\n",
              "      <td>DecisionTreeClassifier</td>\n",
              "    </tr>\n",
              "    <tr>\n",
              "      <th>...</th>\n",
              "      <td>...</td>\n",
              "      <td>...</td>\n",
              "      <td>...</td>\n",
              "      <td>...</td>\n",
              "      <td>...</td>\n",
              "    </tr>\n",
              "    <tr>\n",
              "      <th>153660</th>\n",
              "      <td>31867.0</td>\n",
              "      <td>337.0</td>\n",
              "      <td>18</td>\n",
              "      <td>0.600334</td>\n",
              "      <td>DecisionTreeClassifier</td>\n",
              "    </tr>\n",
              "    <tr>\n",
              "      <th>153661</th>\n",
              "      <td>29605.0</td>\n",
              "      <td>1180.0</td>\n",
              "      <td>23</td>\n",
              "      <td>0.600334</td>\n",
              "      <td>DecisionTreeClassifier</td>\n",
              "    </tr>\n",
              "    <tr>\n",
              "      <th>153662</th>\n",
              "      <td>32174.0</td>\n",
              "      <td>22.0</td>\n",
              "      <td>22</td>\n",
              "      <td>0.229613</td>\n",
              "      <td>DecisionTreeClassifier</td>\n",
              "    </tr>\n",
              "    <tr>\n",
              "      <th>153663</th>\n",
              "      <td>35825.0</td>\n",
              "      <td>12.0</td>\n",
              "      <td>26</td>\n",
              "      <td>0.600334</td>\n",
              "      <td>DecisionTreeClassifier</td>\n",
              "    </tr>\n",
              "    <tr>\n",
              "      <th>153664</th>\n",
              "      <td>36218.0</td>\n",
              "      <td>421.0</td>\n",
              "      <td>25</td>\n",
              "      <td>0.249496</td>\n",
              "      <td>DecisionTreeClassifier</td>\n",
              "    </tr>\n",
              "  </tbody>\n",
              "</table>\n",
              "<p>153665 rows × 5 columns</p>\n",
              "</div>\n",
              "    <div class=\"colab-df-buttons\">\n",
              "\n",
              "  <div class=\"colab-df-container\">\n",
              "    <button class=\"colab-df-convert\" onclick=\"convertToInteractive('df-f0414350-387e-4ddd-a899-958f676f721b')\"\n",
              "            title=\"Convert this dataframe to an interactive table.\"\n",
              "            style=\"display:none;\">\n",
              "\n",
              "  <svg xmlns=\"http://www.w3.org/2000/svg\" height=\"24px\" viewBox=\"0 -960 960 960\">\n",
              "    <path d=\"M120-120v-720h720v720H120Zm60-500h600v-160H180v160Zm220 220h160v-160H400v160Zm0 220h160v-160H400v160ZM180-400h160v-160H180v160Zm440 0h160v-160H620v160ZM180-180h160v-160H180v160Zm440 0h160v-160H620v160Z\"/>\n",
              "  </svg>\n",
              "    </button>\n",
              "\n",
              "  <style>\n",
              "    .colab-df-container {\n",
              "      display:flex;\n",
              "      gap: 12px;\n",
              "    }\n",
              "\n",
              "    .colab-df-convert {\n",
              "      background-color: #E8F0FE;\n",
              "      border: none;\n",
              "      border-radius: 50%;\n",
              "      cursor: pointer;\n",
              "      display: none;\n",
              "      fill: #1967D2;\n",
              "      height: 32px;\n",
              "      padding: 0 0 0 0;\n",
              "      width: 32px;\n",
              "    }\n",
              "\n",
              "    .colab-df-convert:hover {\n",
              "      background-color: #E2EBFA;\n",
              "      box-shadow: 0px 1px 2px rgba(60, 64, 67, 0.3), 0px 1px 3px 1px rgba(60, 64, 67, 0.15);\n",
              "      fill: #174EA6;\n",
              "    }\n",
              "\n",
              "    .colab-df-buttons div {\n",
              "      margin-bottom: 4px;\n",
              "    }\n",
              "\n",
              "    [theme=dark] .colab-df-convert {\n",
              "      background-color: #3B4455;\n",
              "      fill: #D2E3FC;\n",
              "    }\n",
              "\n",
              "    [theme=dark] .colab-df-convert:hover {\n",
              "      background-color: #434B5C;\n",
              "      box-shadow: 0px 1px 3px 1px rgba(0, 0, 0, 0.15);\n",
              "      filter: drop-shadow(0px 1px 2px rgba(0, 0, 0, 0.3));\n",
              "      fill: #FFFFFF;\n",
              "    }\n",
              "  </style>\n",
              "\n",
              "    <script>\n",
              "      const buttonEl =\n",
              "        document.querySelector('#df-f0414350-387e-4ddd-a899-958f676f721b button.colab-df-convert');\n",
              "      buttonEl.style.display =\n",
              "        google.colab.kernel.accessAllowed ? 'block' : 'none';\n",
              "\n",
              "      async function convertToInteractive(key) {\n",
              "        const element = document.querySelector('#df-f0414350-387e-4ddd-a899-958f676f721b');\n",
              "        const dataTable =\n",
              "          await google.colab.kernel.invokeFunction('convertToInteractive',\n",
              "                                                    [key], {});\n",
              "        if (!dataTable) return;\n",
              "\n",
              "        const docLinkHtml = 'Like what you see? Visit the ' +\n",
              "          '<a target=\"_blank\" href=https://colab.research.google.com/notebooks/data_table.ipynb>data table notebook</a>'\n",
              "          + ' to learn more about interactive tables.';\n",
              "        element.innerHTML = '';\n",
              "        dataTable['output_type'] = 'display_data';\n",
              "        await google.colab.output.renderOutput(dataTable, element);\n",
              "        const docLink = document.createElement('div');\n",
              "        docLink.innerHTML = docLinkHtml;\n",
              "        element.appendChild(docLink);\n",
              "      }\n",
              "    </script>\n",
              "  </div>\n",
              "\n",
              "\n",
              "<div id=\"df-13d797c2-d82b-40c3-9d06-180307d42f30\">\n",
              "  <button class=\"colab-df-quickchart\" onclick=\"quickchart('df-13d797c2-d82b-40c3-9d06-180307d42f30')\"\n",
              "            title=\"Suggest charts\"\n",
              "            style=\"display:none;\">\n",
              "\n",
              "<svg xmlns=\"http://www.w3.org/2000/svg\" height=\"24px\"viewBox=\"0 0 24 24\"\n",
              "     width=\"24px\">\n",
              "    <g>\n",
              "        <path d=\"M19 3H5c-1.1 0-2 .9-2 2v14c0 1.1.9 2 2 2h14c1.1 0 2-.9 2-2V5c0-1.1-.9-2-2-2zM9 17H7v-7h2v7zm4 0h-2V7h2v10zm4 0h-2v-4h2v4z\"/>\n",
              "    </g>\n",
              "</svg>\n",
              "  </button>\n",
              "\n",
              "<style>\n",
              "  .colab-df-quickchart {\n",
              "      --bg-color: #E8F0FE;\n",
              "      --fill-color: #1967D2;\n",
              "      --hover-bg-color: #E2EBFA;\n",
              "      --hover-fill-color: #174EA6;\n",
              "      --disabled-fill-color: #AAA;\n",
              "      --disabled-bg-color: #DDD;\n",
              "  }\n",
              "\n",
              "  [theme=dark] .colab-df-quickchart {\n",
              "      --bg-color: #3B4455;\n",
              "      --fill-color: #D2E3FC;\n",
              "      --hover-bg-color: #434B5C;\n",
              "      --hover-fill-color: #FFFFFF;\n",
              "      --disabled-bg-color: #3B4455;\n",
              "      --disabled-fill-color: #666;\n",
              "  }\n",
              "\n",
              "  .colab-df-quickchart {\n",
              "    background-color: var(--bg-color);\n",
              "    border: none;\n",
              "    border-radius: 50%;\n",
              "    cursor: pointer;\n",
              "    display: none;\n",
              "    fill: var(--fill-color);\n",
              "    height: 32px;\n",
              "    padding: 0;\n",
              "    width: 32px;\n",
              "  }\n",
              "\n",
              "  .colab-df-quickchart:hover {\n",
              "    background-color: var(--hover-bg-color);\n",
              "    box-shadow: 0 1px 2px rgba(60, 64, 67, 0.3), 0 1px 3px 1px rgba(60, 64, 67, 0.15);\n",
              "    fill: var(--button-hover-fill-color);\n",
              "  }\n",
              "\n",
              "  .colab-df-quickchart-complete:disabled,\n",
              "  .colab-df-quickchart-complete:disabled:hover {\n",
              "    background-color: var(--disabled-bg-color);\n",
              "    fill: var(--disabled-fill-color);\n",
              "    box-shadow: none;\n",
              "  }\n",
              "\n",
              "  .colab-df-spinner {\n",
              "    border: 2px solid var(--fill-color);\n",
              "    border-color: transparent;\n",
              "    border-bottom-color: var(--fill-color);\n",
              "    animation:\n",
              "      spin 1s steps(1) infinite;\n",
              "  }\n",
              "\n",
              "  @keyframes spin {\n",
              "    0% {\n",
              "      border-color: transparent;\n",
              "      border-bottom-color: var(--fill-color);\n",
              "      border-left-color: var(--fill-color);\n",
              "    }\n",
              "    20% {\n",
              "      border-color: transparent;\n",
              "      border-left-color: var(--fill-color);\n",
              "      border-top-color: var(--fill-color);\n",
              "    }\n",
              "    30% {\n",
              "      border-color: transparent;\n",
              "      border-left-color: var(--fill-color);\n",
              "      border-top-color: var(--fill-color);\n",
              "      border-right-color: var(--fill-color);\n",
              "    }\n",
              "    40% {\n",
              "      border-color: transparent;\n",
              "      border-right-color: var(--fill-color);\n",
              "      border-top-color: var(--fill-color);\n",
              "    }\n",
              "    60% {\n",
              "      border-color: transparent;\n",
              "      border-right-color: var(--fill-color);\n",
              "    }\n",
              "    80% {\n",
              "      border-color: transparent;\n",
              "      border-right-color: var(--fill-color);\n",
              "      border-bottom-color: var(--fill-color);\n",
              "    }\n",
              "    90% {\n",
              "      border-color: transparent;\n",
              "      border-bottom-color: var(--fill-color);\n",
              "    }\n",
              "  }\n",
              "</style>\n",
              "\n",
              "  <script>\n",
              "    async function quickchart(key) {\n",
              "      const quickchartButtonEl =\n",
              "        document.querySelector('#' + key + ' button');\n",
              "      quickchartButtonEl.disabled = true;  // To prevent multiple clicks.\n",
              "      quickchartButtonEl.classList.add('colab-df-spinner');\n",
              "      try {\n",
              "        const charts = await google.colab.kernel.invokeFunction(\n",
              "            'suggestCharts', [key], {});\n",
              "      } catch (error) {\n",
              "        console.error('Error during call to suggestCharts:', error);\n",
              "      }\n",
              "      quickchartButtonEl.classList.remove('colab-df-spinner');\n",
              "      quickchartButtonEl.classList.add('colab-df-quickchart-complete');\n",
              "    }\n",
              "    (() => {\n",
              "      let quickchartButtonEl =\n",
              "        document.querySelector('#df-13d797c2-d82b-40c3-9d06-180307d42f30 button');\n",
              "      quickchartButtonEl.style.display =\n",
              "        google.colab.kernel.accessAllowed ? 'block' : 'none';\n",
              "    })();\n",
              "  </script>\n",
              "</div>\n",
              "\n",
              "  <div id=\"id_1df2dca9-bf83-409d-8ade-6eef45a4a974\">\n",
              "    <style>\n",
              "      .colab-df-generate {\n",
              "        background-color: #E8F0FE;\n",
              "        border: none;\n",
              "        border-radius: 50%;\n",
              "        cursor: pointer;\n",
              "        display: none;\n",
              "        fill: #1967D2;\n",
              "        height: 32px;\n",
              "        padding: 0 0 0 0;\n",
              "        width: 32px;\n",
              "      }\n",
              "\n",
              "      .colab-df-generate:hover {\n",
              "        background-color: #E2EBFA;\n",
              "        box-shadow: 0px 1px 2px rgba(60, 64, 67, 0.3), 0px 1px 3px 1px rgba(60, 64, 67, 0.15);\n",
              "        fill: #174EA6;\n",
              "      }\n",
              "\n",
              "      [theme=dark] .colab-df-generate {\n",
              "        background-color: #3B4455;\n",
              "        fill: #D2E3FC;\n",
              "      }\n",
              "\n",
              "      [theme=dark] .colab-df-generate:hover {\n",
              "        background-color: #434B5C;\n",
              "        box-shadow: 0px 1px 3px 1px rgba(0, 0, 0, 0.15);\n",
              "        filter: drop-shadow(0px 1px 2px rgba(0, 0, 0, 0.3));\n",
              "        fill: #FFFFFF;\n",
              "      }\n",
              "    </style>\n",
              "    <button class=\"colab-df-generate\" onclick=\"generateWithVariable('probabilidades_df')\"\n",
              "            title=\"Generate code using this dataframe.\"\n",
              "            style=\"display:none;\">\n",
              "\n",
              "  <svg xmlns=\"http://www.w3.org/2000/svg\" height=\"24px\"viewBox=\"0 0 24 24\"\n",
              "       width=\"24px\">\n",
              "    <path d=\"M7,19H8.4L18.45,9,17,7.55,7,17.6ZM5,21V16.75L18.45,3.32a2,2,0,0,1,2.83,0l1.4,1.43a1.91,1.91,0,0,1,.58,1.4,1.91,1.91,0,0,1-.58,1.4L9.25,21ZM18.45,9,17,7.55Zm-12,3A5.31,5.31,0,0,0,4.9,8.1,5.31,5.31,0,0,0,1,6.5,5.31,5.31,0,0,0,4.9,4.9,5.31,5.31,0,0,0,6.5,1,5.31,5.31,0,0,0,8.1,4.9,5.31,5.31,0,0,0,12,6.5,5.46,5.46,0,0,0,6.5,12Z\"/>\n",
              "  </svg>\n",
              "    </button>\n",
              "    <script>\n",
              "      (() => {\n",
              "      const buttonEl =\n",
              "        document.querySelector('#id_1df2dca9-bf83-409d-8ade-6eef45a4a974 button.colab-df-generate');\n",
              "      buttonEl.style.display =\n",
              "        google.colab.kernel.accessAllowed ? 'block' : 'none';\n",
              "\n",
              "      buttonEl.onclick = () => {\n",
              "        google.colab.notebook.generateWithVariable('probabilidades_df');\n",
              "      }\n",
              "      })();\n",
              "    </script>\n",
              "  </div>\n",
              "\n",
              "    </div>\n",
              "  </div>\n"
            ],
            "application/vnd.google.colaboratory.intrinsic+json": {
              "type": "dataframe",
              "variable_name": "probabilidades_df"
            }
          },
          "metadata": {},
          "execution_count": 265
        }
      ]
    },
    {
      "cell_type": "markdown",
      "metadata": {
        "id": "z5m4sOGr-faQ"
      },
      "source": [
        "PRUEBA DE MODELO NUEVOS DATOS"
      ]
    },
    {
      "cell_type": "markdown",
      "metadata": {
        "id": "ItJl_-kL-pRW"
      },
      "source": [
        "carga de modelo"
      ]
    },
    {
      "cell_type": "code",
      "execution_count": 266,
      "metadata": {
        "id": "ewlZ0tFl-h4-"
      },
      "outputs": [],
      "source": [
        "# Ruta en Google Drive\n",
        "#db_path = '/content/drive/MyDrive/ciencia de datos/Nutresa/'\n",
        "db_path = '/content/drive/MyDrive/ce/EXCEL/'\n",
        "\n",
        "# Cargar el modelo y el escalador guardados\n",
        "modelo_cargado = joblib.load(f'{db_path}DecisionTreeClassifier_entrenado.pkl')  # Cambia a tu modelo específico si usaste otro\n",
        "scaler_cargado = joblib.load(f'{db_path}scaler.pkl')\n",
        "columnas_entrenamiento = joblib.load(f'{db_path}columnas_entrenamiento.pkl')\n"
      ]
    },
    {
      "cell_type": "code",
      "source": [
        "datos_nuevos = datos_nuevos.reindex(columns=columnas_entrenamiento, fill_value=0)"
      ],
      "metadata": {
        "id": "FBvSKnvQSSFn"
      },
      "execution_count": 267,
      "outputs": []
    },
    {
      "cell_type": "code",
      "source": [
        "# Escalar el conjunto de datos utilizando el escalador cargado\n",
        "datos_nuevos_scaled = scaler_cargado.transform(datos_nuevos)"
      ],
      "metadata": {
        "id": "_LiZim2uSeDY"
      },
      "execution_count": 268,
      "outputs": []
    },
    {
      "cell_type": "code",
      "source": [
        "if hasattr(modelo_cargado, \"predict_proba\"):\n",
        "    probabilidades_nuevas = modelo_cargado.predict_proba(datos_nuevos_scaled)[:, 1]  # Probabilidad de la clase positiva (por ejemplo, compra)\n",
        "else:\n",
        "    raise ValueError(\"El modelo cargado no admite predict_proba.\")"
      ],
      "metadata": {
        "id": "efTkv9Hfexwz"
      },
      "execution_count": 269,
      "outputs": []
    },
    {
      "cell_type": "code",
      "source": [
        "# Crear el DataFrame con los resultados de probabilidades\n",
        "probabilidades_df_nuevas = pd.DataFrame({\n",
        "    'CUSTOMER_ID': datos_nuevos['CUSTOMER_ID'].values,  # Ajusta los nombres de columna según tus datos\n",
        "    'PRODUCT_ID': datos_nuevos['PRODUCT_ID'].values,\n",
        "    'Semana': datos_nuevos['Semana'].values,\n",
        "    'probabilidad_compra': probabilidades_nuevas\n",
        "})\n",
        "\n",
        "# Mostrar las primeras filas para verificar\n",
        "probabilidades_df_nuevas\n"
      ],
      "metadata": {
        "id": "q9ycdoRSVm-H",
        "colab": {
          "base_uri": "https://localhost:8080/",
          "height": 424
        },
        "outputId": "b9bfc0c1-d0a0-43e4-d497-742a1cc6666d"
      },
      "execution_count": 271,
      "outputs": [
        {
          "output_type": "execute_result",
          "data": {
            "text/plain": [
              "      CUSTOMER_ID  PRODUCT_ID  Semana  probabilidad_compra\n",
              "0         33074.0         1.0      27             0.600334\n",
              "1         33074.0       103.0      27             0.600334\n",
              "2         33074.0       103.0      27             0.600334\n",
              "3         33074.0      1109.0      27             0.600334\n",
              "4         33074.0      1109.0      27             0.600334\n",
              "...           ...         ...     ...                  ...\n",
              "1732      33675.0        98.0      27             0.600334\n",
              "1733      33675.0       986.0      27             0.600334\n",
              "1734      33675.0       986.0      27             0.600334\n",
              "1735      33675.0       999.0      27             0.600334\n",
              "1736      33675.0       999.0      27             0.600334\n",
              "\n",
              "[1737 rows x 4 columns]"
            ],
            "text/html": [
              "\n",
              "  <div id=\"df-60b5b9f9-2207-4fa2-a811-dfd2cf3ac264\" class=\"colab-df-container\">\n",
              "    <div>\n",
              "<style scoped>\n",
              "    .dataframe tbody tr th:only-of-type {\n",
              "        vertical-align: middle;\n",
              "    }\n",
              "\n",
              "    .dataframe tbody tr th {\n",
              "        vertical-align: top;\n",
              "    }\n",
              "\n",
              "    .dataframe thead th {\n",
              "        text-align: right;\n",
              "    }\n",
              "</style>\n",
              "<table border=\"1\" class=\"dataframe\">\n",
              "  <thead>\n",
              "    <tr style=\"text-align: right;\">\n",
              "      <th></th>\n",
              "      <th>CUSTOMER_ID</th>\n",
              "      <th>PRODUCT_ID</th>\n",
              "      <th>Semana</th>\n",
              "      <th>probabilidad_compra</th>\n",
              "    </tr>\n",
              "  </thead>\n",
              "  <tbody>\n",
              "    <tr>\n",
              "      <th>0</th>\n",
              "      <td>33074.0</td>\n",
              "      <td>1.0</td>\n",
              "      <td>27</td>\n",
              "      <td>0.600334</td>\n",
              "    </tr>\n",
              "    <tr>\n",
              "      <th>1</th>\n",
              "      <td>33074.0</td>\n",
              "      <td>103.0</td>\n",
              "      <td>27</td>\n",
              "      <td>0.600334</td>\n",
              "    </tr>\n",
              "    <tr>\n",
              "      <th>2</th>\n",
              "      <td>33074.0</td>\n",
              "      <td>103.0</td>\n",
              "      <td>27</td>\n",
              "      <td>0.600334</td>\n",
              "    </tr>\n",
              "    <tr>\n",
              "      <th>3</th>\n",
              "      <td>33074.0</td>\n",
              "      <td>1109.0</td>\n",
              "      <td>27</td>\n",
              "      <td>0.600334</td>\n",
              "    </tr>\n",
              "    <tr>\n",
              "      <th>4</th>\n",
              "      <td>33074.0</td>\n",
              "      <td>1109.0</td>\n",
              "      <td>27</td>\n",
              "      <td>0.600334</td>\n",
              "    </tr>\n",
              "    <tr>\n",
              "      <th>...</th>\n",
              "      <td>...</td>\n",
              "      <td>...</td>\n",
              "      <td>...</td>\n",
              "      <td>...</td>\n",
              "    </tr>\n",
              "    <tr>\n",
              "      <th>1732</th>\n",
              "      <td>33675.0</td>\n",
              "      <td>98.0</td>\n",
              "      <td>27</td>\n",
              "      <td>0.600334</td>\n",
              "    </tr>\n",
              "    <tr>\n",
              "      <th>1733</th>\n",
              "      <td>33675.0</td>\n",
              "      <td>986.0</td>\n",
              "      <td>27</td>\n",
              "      <td>0.600334</td>\n",
              "    </tr>\n",
              "    <tr>\n",
              "      <th>1734</th>\n",
              "      <td>33675.0</td>\n",
              "      <td>986.0</td>\n",
              "      <td>27</td>\n",
              "      <td>0.600334</td>\n",
              "    </tr>\n",
              "    <tr>\n",
              "      <th>1735</th>\n",
              "      <td>33675.0</td>\n",
              "      <td>999.0</td>\n",
              "      <td>27</td>\n",
              "      <td>0.600334</td>\n",
              "    </tr>\n",
              "    <tr>\n",
              "      <th>1736</th>\n",
              "      <td>33675.0</td>\n",
              "      <td>999.0</td>\n",
              "      <td>27</td>\n",
              "      <td>0.600334</td>\n",
              "    </tr>\n",
              "  </tbody>\n",
              "</table>\n",
              "<p>1737 rows × 4 columns</p>\n",
              "</div>\n",
              "    <div class=\"colab-df-buttons\">\n",
              "\n",
              "  <div class=\"colab-df-container\">\n",
              "    <button class=\"colab-df-convert\" onclick=\"convertToInteractive('df-60b5b9f9-2207-4fa2-a811-dfd2cf3ac264')\"\n",
              "            title=\"Convert this dataframe to an interactive table.\"\n",
              "            style=\"display:none;\">\n",
              "\n",
              "  <svg xmlns=\"http://www.w3.org/2000/svg\" height=\"24px\" viewBox=\"0 -960 960 960\">\n",
              "    <path d=\"M120-120v-720h720v720H120Zm60-500h600v-160H180v160Zm220 220h160v-160H400v160Zm0 220h160v-160H400v160ZM180-400h160v-160H180v160Zm440 0h160v-160H620v160ZM180-180h160v-160H180v160Zm440 0h160v-160H620v160Z\"/>\n",
              "  </svg>\n",
              "    </button>\n",
              "\n",
              "  <style>\n",
              "    .colab-df-container {\n",
              "      display:flex;\n",
              "      gap: 12px;\n",
              "    }\n",
              "\n",
              "    .colab-df-convert {\n",
              "      background-color: #E8F0FE;\n",
              "      border: none;\n",
              "      border-radius: 50%;\n",
              "      cursor: pointer;\n",
              "      display: none;\n",
              "      fill: #1967D2;\n",
              "      height: 32px;\n",
              "      padding: 0 0 0 0;\n",
              "      width: 32px;\n",
              "    }\n",
              "\n",
              "    .colab-df-convert:hover {\n",
              "      background-color: #E2EBFA;\n",
              "      box-shadow: 0px 1px 2px rgba(60, 64, 67, 0.3), 0px 1px 3px 1px rgba(60, 64, 67, 0.15);\n",
              "      fill: #174EA6;\n",
              "    }\n",
              "\n",
              "    .colab-df-buttons div {\n",
              "      margin-bottom: 4px;\n",
              "    }\n",
              "\n",
              "    [theme=dark] .colab-df-convert {\n",
              "      background-color: #3B4455;\n",
              "      fill: #D2E3FC;\n",
              "    }\n",
              "\n",
              "    [theme=dark] .colab-df-convert:hover {\n",
              "      background-color: #434B5C;\n",
              "      box-shadow: 0px 1px 3px 1px rgba(0, 0, 0, 0.15);\n",
              "      filter: drop-shadow(0px 1px 2px rgba(0, 0, 0, 0.3));\n",
              "      fill: #FFFFFF;\n",
              "    }\n",
              "  </style>\n",
              "\n",
              "    <script>\n",
              "      const buttonEl =\n",
              "        document.querySelector('#df-60b5b9f9-2207-4fa2-a811-dfd2cf3ac264 button.colab-df-convert');\n",
              "      buttonEl.style.display =\n",
              "        google.colab.kernel.accessAllowed ? 'block' : 'none';\n",
              "\n",
              "      async function convertToInteractive(key) {\n",
              "        const element = document.querySelector('#df-60b5b9f9-2207-4fa2-a811-dfd2cf3ac264');\n",
              "        const dataTable =\n",
              "          await google.colab.kernel.invokeFunction('convertToInteractive',\n",
              "                                                    [key], {});\n",
              "        if (!dataTable) return;\n",
              "\n",
              "        const docLinkHtml = 'Like what you see? Visit the ' +\n",
              "          '<a target=\"_blank\" href=https://colab.research.google.com/notebooks/data_table.ipynb>data table notebook</a>'\n",
              "          + ' to learn more about interactive tables.';\n",
              "        element.innerHTML = '';\n",
              "        dataTable['output_type'] = 'display_data';\n",
              "        await google.colab.output.renderOutput(dataTable, element);\n",
              "        const docLink = document.createElement('div');\n",
              "        docLink.innerHTML = docLinkHtml;\n",
              "        element.appendChild(docLink);\n",
              "      }\n",
              "    </script>\n",
              "  </div>\n",
              "\n",
              "\n",
              "<div id=\"df-3124c268-d5ee-4b97-b261-ae80d3986ab2\">\n",
              "  <button class=\"colab-df-quickchart\" onclick=\"quickchart('df-3124c268-d5ee-4b97-b261-ae80d3986ab2')\"\n",
              "            title=\"Suggest charts\"\n",
              "            style=\"display:none;\">\n",
              "\n",
              "<svg xmlns=\"http://www.w3.org/2000/svg\" height=\"24px\"viewBox=\"0 0 24 24\"\n",
              "     width=\"24px\">\n",
              "    <g>\n",
              "        <path d=\"M19 3H5c-1.1 0-2 .9-2 2v14c0 1.1.9 2 2 2h14c1.1 0 2-.9 2-2V5c0-1.1-.9-2-2-2zM9 17H7v-7h2v7zm4 0h-2V7h2v10zm4 0h-2v-4h2v4z\"/>\n",
              "    </g>\n",
              "</svg>\n",
              "  </button>\n",
              "\n",
              "<style>\n",
              "  .colab-df-quickchart {\n",
              "      --bg-color: #E8F0FE;\n",
              "      --fill-color: #1967D2;\n",
              "      --hover-bg-color: #E2EBFA;\n",
              "      --hover-fill-color: #174EA6;\n",
              "      --disabled-fill-color: #AAA;\n",
              "      --disabled-bg-color: #DDD;\n",
              "  }\n",
              "\n",
              "  [theme=dark] .colab-df-quickchart {\n",
              "      --bg-color: #3B4455;\n",
              "      --fill-color: #D2E3FC;\n",
              "      --hover-bg-color: #434B5C;\n",
              "      --hover-fill-color: #FFFFFF;\n",
              "      --disabled-bg-color: #3B4455;\n",
              "      --disabled-fill-color: #666;\n",
              "  }\n",
              "\n",
              "  .colab-df-quickchart {\n",
              "    background-color: var(--bg-color);\n",
              "    border: none;\n",
              "    border-radius: 50%;\n",
              "    cursor: pointer;\n",
              "    display: none;\n",
              "    fill: var(--fill-color);\n",
              "    height: 32px;\n",
              "    padding: 0;\n",
              "    width: 32px;\n",
              "  }\n",
              "\n",
              "  .colab-df-quickchart:hover {\n",
              "    background-color: var(--hover-bg-color);\n",
              "    box-shadow: 0 1px 2px rgba(60, 64, 67, 0.3), 0 1px 3px 1px rgba(60, 64, 67, 0.15);\n",
              "    fill: var(--button-hover-fill-color);\n",
              "  }\n",
              "\n",
              "  .colab-df-quickchart-complete:disabled,\n",
              "  .colab-df-quickchart-complete:disabled:hover {\n",
              "    background-color: var(--disabled-bg-color);\n",
              "    fill: var(--disabled-fill-color);\n",
              "    box-shadow: none;\n",
              "  }\n",
              "\n",
              "  .colab-df-spinner {\n",
              "    border: 2px solid var(--fill-color);\n",
              "    border-color: transparent;\n",
              "    border-bottom-color: var(--fill-color);\n",
              "    animation:\n",
              "      spin 1s steps(1) infinite;\n",
              "  }\n",
              "\n",
              "  @keyframes spin {\n",
              "    0% {\n",
              "      border-color: transparent;\n",
              "      border-bottom-color: var(--fill-color);\n",
              "      border-left-color: var(--fill-color);\n",
              "    }\n",
              "    20% {\n",
              "      border-color: transparent;\n",
              "      border-left-color: var(--fill-color);\n",
              "      border-top-color: var(--fill-color);\n",
              "    }\n",
              "    30% {\n",
              "      border-color: transparent;\n",
              "      border-left-color: var(--fill-color);\n",
              "      border-top-color: var(--fill-color);\n",
              "      border-right-color: var(--fill-color);\n",
              "    }\n",
              "    40% {\n",
              "      border-color: transparent;\n",
              "      border-right-color: var(--fill-color);\n",
              "      border-top-color: var(--fill-color);\n",
              "    }\n",
              "    60% {\n",
              "      border-color: transparent;\n",
              "      border-right-color: var(--fill-color);\n",
              "    }\n",
              "    80% {\n",
              "      border-color: transparent;\n",
              "      border-right-color: var(--fill-color);\n",
              "      border-bottom-color: var(--fill-color);\n",
              "    }\n",
              "    90% {\n",
              "      border-color: transparent;\n",
              "      border-bottom-color: var(--fill-color);\n",
              "    }\n",
              "  }\n",
              "</style>\n",
              "\n",
              "  <script>\n",
              "    async function quickchart(key) {\n",
              "      const quickchartButtonEl =\n",
              "        document.querySelector('#' + key + ' button');\n",
              "      quickchartButtonEl.disabled = true;  // To prevent multiple clicks.\n",
              "      quickchartButtonEl.classList.add('colab-df-spinner');\n",
              "      try {\n",
              "        const charts = await google.colab.kernel.invokeFunction(\n",
              "            'suggestCharts', [key], {});\n",
              "      } catch (error) {\n",
              "        console.error('Error during call to suggestCharts:', error);\n",
              "      }\n",
              "      quickchartButtonEl.classList.remove('colab-df-spinner');\n",
              "      quickchartButtonEl.classList.add('colab-df-quickchart-complete');\n",
              "    }\n",
              "    (() => {\n",
              "      let quickchartButtonEl =\n",
              "        document.querySelector('#df-3124c268-d5ee-4b97-b261-ae80d3986ab2 button');\n",
              "      quickchartButtonEl.style.display =\n",
              "        google.colab.kernel.accessAllowed ? 'block' : 'none';\n",
              "    })();\n",
              "  </script>\n",
              "</div>\n",
              "\n",
              "  <div id=\"id_3963ea42-7811-478c-8ead-6bf182256b79\">\n",
              "    <style>\n",
              "      .colab-df-generate {\n",
              "        background-color: #E8F0FE;\n",
              "        border: none;\n",
              "        border-radius: 50%;\n",
              "        cursor: pointer;\n",
              "        display: none;\n",
              "        fill: #1967D2;\n",
              "        height: 32px;\n",
              "        padding: 0 0 0 0;\n",
              "        width: 32px;\n",
              "      }\n",
              "\n",
              "      .colab-df-generate:hover {\n",
              "        background-color: #E2EBFA;\n",
              "        box-shadow: 0px 1px 2px rgba(60, 64, 67, 0.3), 0px 1px 3px 1px rgba(60, 64, 67, 0.15);\n",
              "        fill: #174EA6;\n",
              "      }\n",
              "\n",
              "      [theme=dark] .colab-df-generate {\n",
              "        background-color: #3B4455;\n",
              "        fill: #D2E3FC;\n",
              "      }\n",
              "\n",
              "      [theme=dark] .colab-df-generate:hover {\n",
              "        background-color: #434B5C;\n",
              "        box-shadow: 0px 1px 3px 1px rgba(0, 0, 0, 0.15);\n",
              "        filter: drop-shadow(0px 1px 2px rgba(0, 0, 0, 0.3));\n",
              "        fill: #FFFFFF;\n",
              "      }\n",
              "    </style>\n",
              "    <button class=\"colab-df-generate\" onclick=\"generateWithVariable('probabilidades_df_nuevas')\"\n",
              "            title=\"Generate code using this dataframe.\"\n",
              "            style=\"display:none;\">\n",
              "\n",
              "  <svg xmlns=\"http://www.w3.org/2000/svg\" height=\"24px\"viewBox=\"0 0 24 24\"\n",
              "       width=\"24px\">\n",
              "    <path d=\"M7,19H8.4L18.45,9,17,7.55,7,17.6ZM5,21V16.75L18.45,3.32a2,2,0,0,1,2.83,0l1.4,1.43a1.91,1.91,0,0,1,.58,1.4,1.91,1.91,0,0,1-.58,1.4L9.25,21ZM18.45,9,17,7.55Zm-12,3A5.31,5.31,0,0,0,4.9,8.1,5.31,5.31,0,0,0,1,6.5,5.31,5.31,0,0,0,4.9,4.9,5.31,5.31,0,0,0,6.5,1,5.31,5.31,0,0,0,8.1,4.9,5.31,5.31,0,0,0,12,6.5,5.46,5.46,0,0,0,6.5,12Z\"/>\n",
              "  </svg>\n",
              "    </button>\n",
              "    <script>\n",
              "      (() => {\n",
              "      const buttonEl =\n",
              "        document.querySelector('#id_3963ea42-7811-478c-8ead-6bf182256b79 button.colab-df-generate');\n",
              "      buttonEl.style.display =\n",
              "        google.colab.kernel.accessAllowed ? 'block' : 'none';\n",
              "\n",
              "      buttonEl.onclick = () => {\n",
              "        google.colab.notebook.generateWithVariable('probabilidades_df_nuevas');\n",
              "      }\n",
              "      })();\n",
              "    </script>\n",
              "  </div>\n",
              "\n",
              "    </div>\n",
              "  </div>\n"
            ],
            "application/vnd.google.colaboratory.intrinsic+json": {
              "type": "dataframe",
              "variable_name": "probabilidades_df_nuevas",
              "summary": "{\n  \"name\": \"probabilidades_df_nuevas\",\n  \"rows\": 1737,\n  \"fields\": [\n    {\n      \"column\": \"CUSTOMER_ID\",\n      \"properties\": {\n        \"dtype\": \"number\",\n        \"std\": 277.31915891490746,\n        \"min\": 33074.0,\n        \"max\": 33675.0,\n        \"num_unique_values\": 3,\n        \"samples\": [\n          33074.0,\n          33116.0,\n          33675.0\n        ],\n        \"semantic_type\": \"\",\n        \"description\": \"\"\n      }\n    },\n    {\n      \"column\": \"PRODUCT_ID\",\n      \"properties\": {\n        \"dtype\": \"number\",\n        \"std\": 340.99122944615135,\n        \"min\": 1.0,\n        \"max\": 1482.0,\n        \"num_unique_values\": 454,\n        \"samples\": [\n          861.0,\n          196.0,\n          1300.0\n        ],\n        \"semantic_type\": \"\",\n        \"description\": \"\"\n      }\n    },\n    {\n      \"column\": \"Semana\",\n      \"properties\": {\n        \"dtype\": \"number\",\n        \"std\": 0,\n        \"min\": 27,\n        \"max\": 27,\n        \"num_unique_values\": 1,\n        \"samples\": [\n          27\n        ],\n        \"semantic_type\": \"\",\n        \"description\": \"\"\n      }\n    },\n    {\n      \"column\": \"probabilidad_compra\",\n      \"properties\": {\n        \"dtype\": \"number\",\n        \"std\": 2.7763568582134598e-15,\n        \"min\": 0.6003339918373688,\n        \"max\": 0.6003339918373688,\n        \"num_unique_values\": 1,\n        \"samples\": [\n          0.6003339918373688\n        ],\n        \"semantic_type\": \"\",\n        \"description\": \"\"\n      }\n    }\n  ]\n}"
            }
          },
          "metadata": {},
          "execution_count": 271
        }
      ]
    },
    {
      "cell_type": "code",
      "source": [
        "# Especifica la ruta donde deseas guardar el archivo en Google Drive\n",
        "ruta_guardado = '/content/drive/MyDrive/ciencia de datos/Nutresa/probabilidades_df_nuevas.csv'\n",
        "\n",
        "# Guardar el DataFrame en formato CSV\n",
        "probabilidades_df_nuevas.to_csv(ruta_guardado, index=False)\n",
        "\n",
        "print(\"El archivo se ha guardado correctamente en Google Drive.\")"
      ],
      "metadata": {
        "colab": {
          "base_uri": "https://localhost:8080/"
        },
        "id": "FA6Sj_sapY_i",
        "outputId": "cb784ca4-4232-4640-cd98-ee9eeed79845"
      },
      "execution_count": 272,
      "outputs": [
        {
          "output_type": "stream",
          "name": "stdout",
          "text": [
            "El archivo se ha guardado correctamente en Google Drive.\n"
          ]
        }
      ]
    }
  ],
  "metadata": {
    "colab": {
      "provenance": [],
      "authorship_tag": "ABX9TyPxrCsJoHL+Pc93cxheUgXL",
      "include_colab_link": true
    },
    "kernelspec": {
      "display_name": "Python 3",
      "name": "python3"
    },
    "language_info": {
      "name": "python"
    }
  },
  "nbformat": 4,
  "nbformat_minor": 0
}